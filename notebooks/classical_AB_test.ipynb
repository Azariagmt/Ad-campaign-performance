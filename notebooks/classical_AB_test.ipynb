{
  "nbformat": 4,
  "nbformat_minor": 0,
  "metadata": {
    "colab": {
      "name": "classical AB test.ipynb",
      "provenance": [],
      "authorship_tag": "ABX9TyNTD0czgPKUOH8jrdlbc7+5",
      "include_colab_link": true
    },
    "kernelspec": {
      "name": "python3",
      "display_name": "Python 3"
    },
    "language_info": {
      "name": "python"
    }
  },
  "cells": [
    {
      "cell_type": "markdown",
      "metadata": {
        "id": "view-in-github",
        "colab_type": "text"
      },
      "source": [
        "<a href=\"https://colab.research.google.com/github/Azariagmt/Ad-campaign-performance/blob/main/notebooks/classical_AB_test.ipynb\" target=\"_parent\"><img src=\"https://colab.research.google.com/assets/colab-badge.svg\" alt=\"Open In Colab\"/></a>"
      ]
    },
    {
      "cell_type": "markdown",
      "metadata": {
        "id": "ULqJ6YWYaKOC"
      },
      "source": [
        "## Increasing Brand awareness using creative Ad\n",
        "### Specific goals\n",
        "* Test change to new Ad type\n",
        "* Increase Brand awareness by creative Ad\n",
        "* Measure Ad impact using BIO(Brand impact optimizer) metric"
      ]
    },
    {
      "cell_type": "markdown",
      "metadata": {
        "id": "eUHi3NfXau8G"
      },
      "source": [
        "### Response variable\n",
        "* The quantity used to measure the impact of the Ad\n",
        "* The KPI known here as the reply to the BIO"
      ]
    },
    {
      "cell_type": "code",
      "metadata": {
        "id": "3wK2VxTCaoAj"
      },
      "source": [
        "# 10% increase in brand impact seems like a reasonable choice\n"
      ],
      "execution_count": null,
      "outputs": []
    }
  ]
}