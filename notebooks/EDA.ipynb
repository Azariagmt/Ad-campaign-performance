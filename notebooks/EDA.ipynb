{
  "nbformat": 4,
  "nbformat_minor": 0,
  "metadata": {
    "colab": {
      "name": "EDA.ipynb",
      "provenance": [],
      "authorship_tag": "ABX9TyNf5wVazyIN1VEpT2gNJyIq",
      "include_colab_link": true
    },
    "kernelspec": {
      "name": "python3",
      "display_name": "Python 3"
    },
    "language_info": {
      "name": "python"
    }
  },
  "cells": [
    {
      "cell_type": "markdown",
      "metadata": {
        "id": "view-in-github",
        "colab_type": "text"
      },
      "source": [
        "<a href=\"https://colab.research.google.com/github/Azariagmt/Ad-campaign-performance/blob/main/notebooks/EDA.ipynb\" target=\"_parent\"><img src=\"https://colab.research.google.com/assets/colab-badge.svg\" alt=\"Open In Colab\"/></a>"
      ]
    },
    {
      "cell_type": "code",
      "metadata": {
        "colab": {
          "base_uri": "https://localhost:8080/"
        },
        "id": "RNqFn1TzFZOu",
        "outputId": "a8511413-5a05-4b53-93b6-cf5f63287262"
      },
      "source": [
        "!gdown \"https://drive.google.com/uc?id=1iVNXgceF7uk3MaPwYcysQpE-Jj5WX5DV\"\n"
      ],
      "execution_count": 1,
      "outputs": [
        {
          "output_type": "stream",
          "text": [
            "Downloading...\n",
            "From: https://drive.google.com/uc?id=1iVNXgceF7uk3MaPwYcysQpE-Jj5WX5DV\n",
            "To: /content/AdSmartABdata.csv\n",
            "100% 784k/784k [00:00<00:00, 3.67MB/s]\n"
          ],
          "name": "stdout"
        }
      ]
    },
    {
      "cell_type": "markdown",
      "metadata": {
        "id": "DC8dIrSPkOCU"
      },
      "source": [
        "# Imports"
      ]
    },
    {
      "cell_type": "code",
      "metadata": {
        "id": "R-rf3UXzCo2j"
      },
      "source": [
        "import pandas as pd"
      ],
      "execution_count": 2,
      "outputs": []
    },
    {
      "cell_type": "code",
      "metadata": {
        "colab": {
          "base_uri": "https://localhost:8080/",
          "height": 235
        },
        "id": "9v11FnwckM3p",
        "outputId": "7e4aac49-d70a-4ff8-a5e7-f156fe89da70"
      },
      "source": [
        "df = pd.read_csv('/content/AdSmartABdata.csv', index_col=\"auction_id\")\n",
        "df.head()"
      ],
      "execution_count": 27,
      "outputs": [
        {
          "output_type": "execute_result",
          "data": {
            "text/html": [
              "<div>\n",
              "<style scoped>\n",
              "    .dataframe tbody tr th:only-of-type {\n",
              "        vertical-align: middle;\n",
              "    }\n",
              "\n",
              "    .dataframe tbody tr th {\n",
              "        vertical-align: top;\n",
              "    }\n",
              "\n",
              "    .dataframe thead th {\n",
              "        text-align: right;\n",
              "    }\n",
              "</style>\n",
              "<table border=\"1\" class=\"dataframe\">\n",
              "  <thead>\n",
              "    <tr style=\"text-align: right;\">\n",
              "      <th></th>\n",
              "      <th>experiment</th>\n",
              "      <th>date</th>\n",
              "      <th>hour</th>\n",
              "      <th>device_make</th>\n",
              "      <th>platform_os</th>\n",
              "      <th>browser</th>\n",
              "      <th>yes</th>\n",
              "      <th>no</th>\n",
              "    </tr>\n",
              "    <tr>\n",
              "      <th>auction_id</th>\n",
              "      <th></th>\n",
              "      <th></th>\n",
              "      <th></th>\n",
              "      <th></th>\n",
              "      <th></th>\n",
              "      <th></th>\n",
              "      <th></th>\n",
              "      <th></th>\n",
              "    </tr>\n",
              "  </thead>\n",
              "  <tbody>\n",
              "    <tr>\n",
              "      <th>0008ef63-77a7-448b-bd1e-075f42c55e39</th>\n",
              "      <td>exposed</td>\n",
              "      <td>2020-07-10</td>\n",
              "      <td>8</td>\n",
              "      <td>Generic Smartphone</td>\n",
              "      <td>6</td>\n",
              "      <td>Chrome Mobile</td>\n",
              "      <td>0</td>\n",
              "      <td>0</td>\n",
              "    </tr>\n",
              "    <tr>\n",
              "      <th>000eabc5-17ce-4137-8efe-44734d914446</th>\n",
              "      <td>exposed</td>\n",
              "      <td>2020-07-07</td>\n",
              "      <td>10</td>\n",
              "      <td>Generic Smartphone</td>\n",
              "      <td>6</td>\n",
              "      <td>Chrome Mobile</td>\n",
              "      <td>0</td>\n",
              "      <td>0</td>\n",
              "    </tr>\n",
              "    <tr>\n",
              "      <th>0016d14a-ae18-4a02-a204-6ba53b52f2ed</th>\n",
              "      <td>exposed</td>\n",
              "      <td>2020-07-05</td>\n",
              "      <td>2</td>\n",
              "      <td>E5823</td>\n",
              "      <td>6</td>\n",
              "      <td>Chrome Mobile WebView</td>\n",
              "      <td>0</td>\n",
              "      <td>1</td>\n",
              "    </tr>\n",
              "    <tr>\n",
              "      <th>00187412-2932-4542-a8ef-3633901c98d9</th>\n",
              "      <td>control</td>\n",
              "      <td>2020-07-03</td>\n",
              "      <td>15</td>\n",
              "      <td>Samsung SM-A705FN</td>\n",
              "      <td>6</td>\n",
              "      <td>Facebook</td>\n",
              "      <td>0</td>\n",
              "      <td>0</td>\n",
              "    </tr>\n",
              "    <tr>\n",
              "      <th>001a7785-d3fe-4e11-a344-c8735acacc2c</th>\n",
              "      <td>control</td>\n",
              "      <td>2020-07-03</td>\n",
              "      <td>15</td>\n",
              "      <td>Generic Smartphone</td>\n",
              "      <td>6</td>\n",
              "      <td>Chrome Mobile</td>\n",
              "      <td>0</td>\n",
              "      <td>0</td>\n",
              "    </tr>\n",
              "  </tbody>\n",
              "</table>\n",
              "</div>"
            ],
            "text/plain": [
              "                                     experiment        date  ...  yes no\n",
              "auction_id                                                   ...        \n",
              "0008ef63-77a7-448b-bd1e-075f42c55e39    exposed  2020-07-10  ...    0  0\n",
              "000eabc5-17ce-4137-8efe-44734d914446    exposed  2020-07-07  ...    0  0\n",
              "0016d14a-ae18-4a02-a204-6ba53b52f2ed    exposed  2020-07-05  ...    0  1\n",
              "00187412-2932-4542-a8ef-3633901c98d9    control  2020-07-03  ...    0  0\n",
              "001a7785-d3fe-4e11-a344-c8735acacc2c    control  2020-07-03  ...    0  0\n",
              "\n",
              "[5 rows x 8 columns]"
            ]
          },
          "metadata": {
            "tags": []
          },
          "execution_count": 27
        }
      ]
    },
    {
      "cell_type": "code",
      "metadata": {
        "colab": {
          "base_uri": "https://localhost:8080/"
        },
        "id": "8pAO6ky02CaY",
        "outputId": "197fa1ef-93be-4500-e2f1-dded01dfcc04"
      },
      "source": [
        "for col in df.columns.tolist():\n",
        "  print(f'{col}\\'s unique values are {df[col].unique()}')"
      ],
      "execution_count": 28,
      "outputs": [
        {
          "output_type": "stream",
          "text": [
            "experiment's unique values are ['exposed' 'control']\n",
            "date's unique values are ['2020-07-10' '2020-07-07' '2020-07-05' '2020-07-03' '2020-07-09'\n",
            " '2020-07-04' '2020-07-06' '2020-07-08']\n",
            "hour's unique values are [ 8 10  2 15  5  0 14 13  6 16  7 20  4 17  1 19 18  3 23 12  9 11 21 22]\n",
            "device_make's unique values are ['Generic Smartphone' 'E5823' 'Samsung SM-A705FN' 'Samsung SM-G960F'\n",
            " 'Samsung SM-G973F' 'iPhone' 'Samsung SM-G935F' 'HTC One' 'LG-$2'\n",
            " 'Samsung SM-A202F' 'XT1032' 'COL-L29' 'Samsung SM-N960U1'\n",
            " 'Samsung SM-A715F' 'Samsung SM-G930F' 'I3312' 'Samsung SM-G950F'\n",
            " 'FIG-LX1' 'Samsung SM-G920F' 'MRD-LX1' 'Samsung SM-N950F' 'Moto $2'\n",
            " 'Samsung SM-G970F' 'Samsung GT-I9505' 'Samsung SM-G981B' 'Pixel 3a'\n",
            " 'Samsung SM-J600FN' 'Samsung SM-A105FN' 'OnePlus ONEPLUS A3003' 'POT-LX1'\n",
            " 'Samsung SM-G975F' 'Samsung SM-J330FN' 'Samsung SM-G770F' 'H3311'\n",
            " 'MAR-LX1A' 'HTC One $2' 'Samsung SM-G965F' 'ELE-L09' 'Samsung SM-J415FN'\n",
            " 'Samsung SM-G900F' 'Lenovo A1010a20' 'CLT-L09' 'HTC Desire $2'\n",
            " 'Samsung SM-G980F' 'Samsung SM-G955F' 'Samsung SM-N960F' 'Nexus 5'\n",
            " 'Samsung SM-J260F' 'HTC U11' 'Samsung SM-A405FN' 'Samsung SM-A600FN'\n",
            " 'ANE-LX1' 'VOG-L09' 'Samsung SM-G986B' 'XiaoMi Redmi Note 4' 'ELE-L29'\n",
            " 'Samsung $2' 'Samsung SM-A320FL' 'OnePlus ONEPLUS A5000'\n",
            " 'Samsung SM-A505FN' 'Nokia undefined$2$3' 'Samsung SM-A750FN'\n",
            " 'Samsung SM-A310F' 'Samsung SM-A520F' 'OnePlus ONEPLUS A5010'\n",
            " 'Samsung SM-N975F' 'Pixel 4' 'LYA-L09' 'Samsung SM-G988B' 'VOG-L29'\n",
            " 'Samsung SM-N976B' '5008Y_EEA' 'CLT-L29' 'PRA-LX1' 'Samsung SM-J320FN'\n",
            " 'Samsung SM-J530F' 'Samsung SM-A530F' 'BKL-L09' 'Pixel 3'\n",
            " 'Samsung SM-A515F' 'Nokia$2$3' 'F8331' 'Samsung SM-A300FU'\n",
            " 'Samsung SM-G390F' 'VFD 710' 'XiaoMi Redmi 6' 'Samsung SM-G901F'\n",
            " 'OnePlus ONEPLUS A6003' 'Samsung SM-A500FU' 'Samsung SM-G900V' 'SNE-LX1'\n",
            " 'STF-L09' 'HTC 10' 'Samsung SM-J510FN' 'Samsung SM-J610FN' 'S8'\n",
            " 'XiaoMi Redmi Note 7' 'Samsung SM-G800F' 'EML-L09' 'Samsung SM-N970F'\n",
            " 'Huawei Browser' 'OnePlus ONEPLUS A6013' 'Samsung GT-I8200N'\n",
            " 'Samsung SM-A920F' 'NEM-L51' 'Samsung SM-G570F' 'Samsung SM-G925F'\n",
            " 'VFD 820' 'Asus I01WD' 'HUAWEI $2' 'OnePlus ONEPLUS A6000'\n",
            " 'Samsung SM-J710F' 'Samsung SM-G928F' 'XiaoMi Redmi 8' 'H3113' 'DUB-LX1'\n",
            " 'Pixel 2' 'Samsung GT-I9195' 'WAS-LX1A' 'F5321' 'XiaoMi MI 8 Pro'\n",
            " 'EVA-L09' 'Samsung SM-J730F' 'LYA-L29' 'VFD 500' 'YAL-L21' 'HTC U12+'\n",
            " 'Samsung SM-J330G' 'XiaoMi MI 8' 'Samsung undefined$2' 'G3311' 'G3121'\n",
            " 'DUA-L22' 'Samsung SM-G950U1' 'Samsung SM-G850F' 'Samsung GT-I9505 '\n",
            " 'Samsung SM-A107F' 'BBB100-2' 'VFD 610' 'XiaoMi Redmi 6A' '5099Y'\n",
            " 'Samsung SM-F907B' 'Samsung SM-N9500' 'D5503' 'Samsung SM-G977B'\n",
            " 'Lumia 950' 'Samsung GT-P5210 ' 'COR-L29' 'LDN-L01' 'Samsung SM-J710MN'\n",
            " 'Lenovo A7020a48' 'Samsung SM-G965U1' 'Samsung SM-N910F' 'CUBOT_X18_Plus'\n",
            " 'Samsung SM-A507FN' 'BLA-L09' 'Samsung SM-G900T' 'VTR-L09'\n",
            " 'Samsung SM-J500FN' 'moto e5 play' 'A0001' 'PCT-L29' 'Samsung SM-G925I'\n",
            " 'HTC M10h' 'Vodafone $2' 'Samsung SM-G6100' 'D5803' 'Samsung SM-A505F'\n",
            " 'Samsung SM-G986U1' 'Samsung SM-N9750' 'D6603' 'VFD 700' '6039Y'\n",
            " 'Samsung SM-N920I' 'Samsung SM-G950U' 'XiaoMi Redmi Note 8T'\n",
            " 'Samsung SM-G935U' 'Samsung SM-A105G' 'OnePlus ONE A2003'\n",
            " 'Samsung GT-I9195I' 'C2105' 'ALE-L21' 'Samsung SM-G930L' 'XT1580'\n",
            " 'Samsung SM-G973U' 'XiaoMi Redmi Note 8 Pro' 'Samsung SM-A015M'\n",
            " 'Samsung SM-G388F' 'Samsung SM-N976V' 'VFD 720' 'Samsung SM-G930U'\n",
            " 'EVR-N29' 'XiaoMi Redmi Note 8' 'F3111' 'EML-L29' 'Samsung SM-G610F'\n",
            " 'Samsung SM-A305F' 'Samsung SM-J701F' 'Samsung SM-A510F' 'IMO $2'\n",
            " 'Pixel XL' 'Samsung SM-A415F' 'Samsung SM-A217F' 'Samsung SM-A908B'\n",
            " 'BBF100-1' 'HTC U11 $2' 'E6653' 'Samsung SM-G903F' 'VKY-L09'\n",
            " 'Samsung SM-A207F' 'XiaoMi MI MAX 3' 'F3311' 'Lenovo P2a42'\n",
            " 'Samsung SM-A205G' 'Samsung SM-A605F' 'VF-795' 'VF-895N'\n",
            " 'Samsung SM-A605G' 'D6503' 'Armor_3' 'FRD-L09' 'TA-1033' 'Doro 8030'\n",
            " 'moto e5 plus' 'Samsung SM-J250F' 'Samsung SM-C9000' 'Moto$2'\n",
            " 'Samsung SM-A105F' 'ATU-L11' 'Samsung SM-N770F' 'TA-1020' 'DLI-L22'\n",
            " 'Samsung SM-A805F' 'XiaoMi Redmi Note 6 Pro' 'Samsung SM-G955U'\n",
            " 'Samsung GT-I9300' 'C6903' 'RNE-L21' 'Samsung SM-G361F' 'G3221'\n",
            " 'Samsung SM-G930T' 'Samsung SM-J510GN' 'Samsung SM-A700F' 'CPH1851' 'X13'\n",
            " 'OnePlus ONE E1003' 'Samsung SM-J810F' 'TA-1024' 'OnePlus ONEPLUS A3000'\n",
            " 'XiaoMi Redmi 3S' 'MHA-L09' 'XiaoMi MI 6' 'K7' 'Swift 2 Plus'\n",
            " 'X4_Soul_Infinity_Z' 'Samsung SM-G960U1' 'Wileyfox Swift'\n",
            " 'Samsung SM-J330F' 'PLK-L01' 'Samsung SM-A750GN' 'Samsung SM-G930V'\n",
            " 'XiaoMi Redmi 5 Plus' 'Samsung SM-J610G' 'VCE-L22' 'Samsung SM-G960U'\n",
            " 'Samsung SM-G9730' 'Samsung SM-G955U1' 'XiaoMi Redmi S2'\n",
            " 'Samsung SM-A205F' 'XiaoMi Redmi Note 5']\n",
            "platform_os's unique values are [6 5 7]\n",
            "browser's unique values are ['Chrome Mobile' 'Chrome Mobile WebView' 'Facebook' 'Mobile Safari'\n",
            " 'Chrome Mobile iOS' 'Samsung Internet' 'Mobile Safari UI/WKWebView'\n",
            " 'Chrome' 'Opera Mini' 'Edge Mobile' 'Android' 'Pinterest' 'Opera Mobile'\n",
            " 'Firefox Mobile' 'Puffin']\n",
            "yes's unique values are [0 1]\n",
            "no's unique values are [0 1]\n"
          ],
          "name": "stdout"
        }
      ]
    },
    {
      "cell_type": "code",
      "metadata": {
        "colab": {
          "base_uri": "https://localhost:8080/"
        },
        "id": "KHWSv25Llya7",
        "outputId": "00f1154e-19f0-4f00-91cb-ef70f5f31ad2"
      },
      "source": [
        "df['experiment'].value_counts()"
      ],
      "execution_count": 29,
      "outputs": [
        {
          "output_type": "execute_result",
          "data": {
            "text/plain": [
              "control    4071\n",
              "exposed    4006\n",
              "Name: experiment, dtype: int64"
            ]
          },
          "metadata": {
            "tags": []
          },
          "execution_count": 29
        }
      ]
    },
    {
      "cell_type": "code",
      "metadata": {
        "colab": {
          "base_uri": "https://localhost:8080/",
          "height": 235
        },
        "id": "U-F-LfEDmRf_",
        "outputId": "67e47c65-2dfe-4473-ca97-a71e9dc9b6e2"
      },
      "source": [
        "df.sort_values(by=['date'], key=pd.to_datetime)\n",
        "df.head()"
      ],
      "execution_count": 30,
      "outputs": [
        {
          "output_type": "execute_result",
          "data": {
            "text/html": [
              "<div>\n",
              "<style scoped>\n",
              "    .dataframe tbody tr th:only-of-type {\n",
              "        vertical-align: middle;\n",
              "    }\n",
              "\n",
              "    .dataframe tbody tr th {\n",
              "        vertical-align: top;\n",
              "    }\n",
              "\n",
              "    .dataframe thead th {\n",
              "        text-align: right;\n",
              "    }\n",
              "</style>\n",
              "<table border=\"1\" class=\"dataframe\">\n",
              "  <thead>\n",
              "    <tr style=\"text-align: right;\">\n",
              "      <th></th>\n",
              "      <th>experiment</th>\n",
              "      <th>date</th>\n",
              "      <th>hour</th>\n",
              "      <th>device_make</th>\n",
              "      <th>platform_os</th>\n",
              "      <th>browser</th>\n",
              "      <th>yes</th>\n",
              "      <th>no</th>\n",
              "    </tr>\n",
              "    <tr>\n",
              "      <th>auction_id</th>\n",
              "      <th></th>\n",
              "      <th></th>\n",
              "      <th></th>\n",
              "      <th></th>\n",
              "      <th></th>\n",
              "      <th></th>\n",
              "      <th></th>\n",
              "      <th></th>\n",
              "    </tr>\n",
              "  </thead>\n",
              "  <tbody>\n",
              "    <tr>\n",
              "      <th>0008ef63-77a7-448b-bd1e-075f42c55e39</th>\n",
              "      <td>exposed</td>\n",
              "      <td>2020-07-10</td>\n",
              "      <td>8</td>\n",
              "      <td>Generic Smartphone</td>\n",
              "      <td>6</td>\n",
              "      <td>Chrome Mobile</td>\n",
              "      <td>0</td>\n",
              "      <td>0</td>\n",
              "    </tr>\n",
              "    <tr>\n",
              "      <th>000eabc5-17ce-4137-8efe-44734d914446</th>\n",
              "      <td>exposed</td>\n",
              "      <td>2020-07-07</td>\n",
              "      <td>10</td>\n",
              "      <td>Generic Smartphone</td>\n",
              "      <td>6</td>\n",
              "      <td>Chrome Mobile</td>\n",
              "      <td>0</td>\n",
              "      <td>0</td>\n",
              "    </tr>\n",
              "    <tr>\n",
              "      <th>0016d14a-ae18-4a02-a204-6ba53b52f2ed</th>\n",
              "      <td>exposed</td>\n",
              "      <td>2020-07-05</td>\n",
              "      <td>2</td>\n",
              "      <td>E5823</td>\n",
              "      <td>6</td>\n",
              "      <td>Chrome Mobile WebView</td>\n",
              "      <td>0</td>\n",
              "      <td>1</td>\n",
              "    </tr>\n",
              "    <tr>\n",
              "      <th>00187412-2932-4542-a8ef-3633901c98d9</th>\n",
              "      <td>control</td>\n",
              "      <td>2020-07-03</td>\n",
              "      <td>15</td>\n",
              "      <td>Samsung SM-A705FN</td>\n",
              "      <td>6</td>\n",
              "      <td>Facebook</td>\n",
              "      <td>0</td>\n",
              "      <td>0</td>\n",
              "    </tr>\n",
              "    <tr>\n",
              "      <th>001a7785-d3fe-4e11-a344-c8735acacc2c</th>\n",
              "      <td>control</td>\n",
              "      <td>2020-07-03</td>\n",
              "      <td>15</td>\n",
              "      <td>Generic Smartphone</td>\n",
              "      <td>6</td>\n",
              "      <td>Chrome Mobile</td>\n",
              "      <td>0</td>\n",
              "      <td>0</td>\n",
              "    </tr>\n",
              "  </tbody>\n",
              "</table>\n",
              "</div>"
            ],
            "text/plain": [
              "                                     experiment        date  ...  yes no\n",
              "auction_id                                                   ...        \n",
              "0008ef63-77a7-448b-bd1e-075f42c55e39    exposed  2020-07-10  ...    0  0\n",
              "000eabc5-17ce-4137-8efe-44734d914446    exposed  2020-07-07  ...    0  0\n",
              "0016d14a-ae18-4a02-a204-6ba53b52f2ed    exposed  2020-07-05  ...    0  1\n",
              "00187412-2932-4542-a8ef-3633901c98d9    control  2020-07-03  ...    0  0\n",
              "001a7785-d3fe-4e11-a344-c8735acacc2c    control  2020-07-03  ...    0  0\n",
              "\n",
              "[5 rows x 8 columns]"
            ]
          },
          "metadata": {
            "tags": []
          },
          "execution_count": 30
        }
      ]
    },
    {
      "cell_type": "code",
      "metadata": {
        "id": "K3V3fZW_FfjZ"
      },
      "source": [
        "exposure_grp = df.groupby('experiment')"
      ],
      "execution_count": 55,
      "outputs": []
    },
    {
      "cell_type": "code",
      "metadata": {
        "colab": {
          "base_uri": "https://localhost:8080/",
          "height": 450
        },
        "id": "QjwYQQs3texM",
        "outputId": "3c25a53e-bbb4-42be-ad94-427194accfaf"
      },
      "source": [
        "exposure_grp.get_group('control')"
      ],
      "execution_count": 64,
      "outputs": [
        {
          "output_type": "execute_result",
          "data": {
            "text/html": [
              "<div>\n",
              "<style scoped>\n",
              "    .dataframe tbody tr th:only-of-type {\n",
              "        vertical-align: middle;\n",
              "    }\n",
              "\n",
              "    .dataframe tbody tr th {\n",
              "        vertical-align: top;\n",
              "    }\n",
              "\n",
              "    .dataframe thead th {\n",
              "        text-align: right;\n",
              "    }\n",
              "</style>\n",
              "<table border=\"1\" class=\"dataframe\">\n",
              "  <thead>\n",
              "    <tr style=\"text-align: right;\">\n",
              "      <th></th>\n",
              "      <th>experiment</th>\n",
              "      <th>date</th>\n",
              "      <th>hour</th>\n",
              "      <th>device_make</th>\n",
              "      <th>platform_os</th>\n",
              "      <th>browser</th>\n",
              "      <th>yes</th>\n",
              "      <th>no</th>\n",
              "    </tr>\n",
              "    <tr>\n",
              "      <th>auction_id</th>\n",
              "      <th></th>\n",
              "      <th></th>\n",
              "      <th></th>\n",
              "      <th></th>\n",
              "      <th></th>\n",
              "      <th></th>\n",
              "      <th></th>\n",
              "      <th></th>\n",
              "    </tr>\n",
              "  </thead>\n",
              "  <tbody>\n",
              "    <tr>\n",
              "      <th>818f37f3-dae8-4a33-a22e-e54056e0ba7d</th>\n",
              "      <td>control</td>\n",
              "      <td>2020-07-03</td>\n",
              "      <td>15</td>\n",
              "      <td>Samsung SM-A600FN</td>\n",
              "      <td>6</td>\n",
              "      <td>Chrome Mobile WebView</td>\n",
              "      <td>0</td>\n",
              "      <td>0</td>\n",
              "    </tr>\n",
              "    <tr>\n",
              "      <th>6be2edc7-cf48-4831-8edf-3694eb241e09</th>\n",
              "      <td>control</td>\n",
              "      <td>2020-07-03</td>\n",
              "      <td>15</td>\n",
              "      <td>Generic Smartphone</td>\n",
              "      <td>6</td>\n",
              "      <td>Chrome Mobile</td>\n",
              "      <td>0</td>\n",
              "      <td>0</td>\n",
              "    </tr>\n",
              "    <tr>\n",
              "      <th>6c3987e1-42ab-4bca-b1c9-3c6e4446f7eb</th>\n",
              "      <td>control</td>\n",
              "      <td>2020-07-03</td>\n",
              "      <td>15</td>\n",
              "      <td>Generic Smartphone</td>\n",
              "      <td>6</td>\n",
              "      <td>Chrome Mobile</td>\n",
              "      <td>0</td>\n",
              "      <td>0</td>\n",
              "    </tr>\n",
              "    <tr>\n",
              "      <th>6ca38532-3f9f-4dd3-a673-83ec4e319f0a</th>\n",
              "      <td>control</td>\n",
              "      <td>2020-07-03</td>\n",
              "      <td>15</td>\n",
              "      <td>Samsung SM-A202F</td>\n",
              "      <td>6</td>\n",
              "      <td>Samsung Internet</td>\n",
              "      <td>0</td>\n",
              "      <td>0</td>\n",
              "    </tr>\n",
              "    <tr>\n",
              "      <th>6caba6ce-35dc-40a5-b79f-05a758ed8654</th>\n",
              "      <td>control</td>\n",
              "      <td>2020-07-03</td>\n",
              "      <td>15</td>\n",
              "      <td>Generic Smartphone</td>\n",
              "      <td>6</td>\n",
              "      <td>Chrome Mobile</td>\n",
              "      <td>0</td>\n",
              "      <td>0</td>\n",
              "    </tr>\n",
              "    <tr>\n",
              "      <th>...</th>\n",
              "      <td>...</td>\n",
              "      <td>...</td>\n",
              "      <td>...</td>\n",
              "      <td>...</td>\n",
              "      <td>...</td>\n",
              "      <td>...</td>\n",
              "      <td>...</td>\n",
              "      <td>...</td>\n",
              "    </tr>\n",
              "    <tr>\n",
              "      <th>9b86aed1-508d-4532-8028-fbaed5d74ee3</th>\n",
              "      <td>control</td>\n",
              "      <td>2020-07-10</td>\n",
              "      <td>16</td>\n",
              "      <td>Generic Smartphone</td>\n",
              "      <td>6</td>\n",
              "      <td>Chrome Mobile</td>\n",
              "      <td>0</td>\n",
              "      <td>0</td>\n",
              "    </tr>\n",
              "    <tr>\n",
              "      <th>9b0b9843-4898-4d85-a3ad-9d4004cb4bcc</th>\n",
              "      <td>control</td>\n",
              "      <td>2020-07-10</td>\n",
              "      <td>8</td>\n",
              "      <td>Samsung SM-G930F</td>\n",
              "      <td>6</td>\n",
              "      <td>Chrome Mobile WebView</td>\n",
              "      <td>1</td>\n",
              "      <td>0</td>\n",
              "    </tr>\n",
              "    <tr>\n",
              "      <th>9a041a14-9aef-45a0-9595-6264748ef728</th>\n",
              "      <td>control</td>\n",
              "      <td>2020-07-10</td>\n",
              "      <td>16</td>\n",
              "      <td>Generic Smartphone</td>\n",
              "      <td>6</td>\n",
              "      <td>Chrome Mobile</td>\n",
              "      <td>0</td>\n",
              "      <td>0</td>\n",
              "    </tr>\n",
              "    <tr>\n",
              "      <th>96ee2c29-9680-4621-b14c-0c66ec0988e2</th>\n",
              "      <td>control</td>\n",
              "      <td>2020-07-10</td>\n",
              "      <td>7</td>\n",
              "      <td>Generic Smartphone</td>\n",
              "      <td>6</td>\n",
              "      <td>Chrome Mobile WebView</td>\n",
              "      <td>0</td>\n",
              "      <td>1</td>\n",
              "    </tr>\n",
              "    <tr>\n",
              "      <th>fffbb9ff-568a-41a5-a0c3-6866592f80d8</th>\n",
              "      <td>control</td>\n",
              "      <td>2020-07-10</td>\n",
              "      <td>14</td>\n",
              "      <td>Samsung SM-G960F</td>\n",
              "      <td>6</td>\n",
              "      <td>Facebook</td>\n",
              "      <td>0</td>\n",
              "      <td>0</td>\n",
              "    </tr>\n",
              "  </tbody>\n",
              "</table>\n",
              "<p>4071 rows × 8 columns</p>\n",
              "</div>"
            ],
            "text/plain": [
              "                                     experiment       date  ...  yes no\n",
              "auction_id                                                  ...        \n",
              "818f37f3-dae8-4a33-a22e-e54056e0ba7d    control 2020-07-03  ...    0  0\n",
              "6be2edc7-cf48-4831-8edf-3694eb241e09    control 2020-07-03  ...    0  0\n",
              "6c3987e1-42ab-4bca-b1c9-3c6e4446f7eb    control 2020-07-03  ...    0  0\n",
              "6ca38532-3f9f-4dd3-a673-83ec4e319f0a    control 2020-07-03  ...    0  0\n",
              "6caba6ce-35dc-40a5-b79f-05a758ed8654    control 2020-07-03  ...    0  0\n",
              "...                                         ...        ...  ...  ... ..\n",
              "9b86aed1-508d-4532-8028-fbaed5d74ee3    control 2020-07-10  ...    0  0\n",
              "9b0b9843-4898-4d85-a3ad-9d4004cb4bcc    control 2020-07-10  ...    1  0\n",
              "9a041a14-9aef-45a0-9595-6264748ef728    control 2020-07-10  ...    0  0\n",
              "96ee2c29-9680-4621-b14c-0c66ec0988e2    control 2020-07-10  ...    0  1\n",
              "fffbb9ff-568a-41a5-a0c3-6866592f80d8    control 2020-07-10  ...    0  0\n",
              "\n",
              "[4071 rows x 8 columns]"
            ]
          },
          "metadata": {
            "tags": []
          },
          "execution_count": 64
        }
      ]
    },
    {
      "cell_type": "code",
      "metadata": {
        "colab": {
          "base_uri": "https://localhost:8080/"
        },
        "id": "M7gCQxL7Fw7-",
        "outputId": "bee331a6-3248-4cef-e069-f1cdd4c482f7"
      },
      "source": [
        "exposure_grp['yes'].value_counts().index"
      ],
      "execution_count": 73,
      "outputs": [
        {
          "output_type": "execute_result",
          "data": {
            "text/plain": [
              "MultiIndex([('control', 0),\n",
              "            ('control', 1),\n",
              "            ('exposed', 0),\n",
              "            ('exposed', 1)],\n",
              "           names=['experiment', 'yes'])"
            ]
          },
          "metadata": {
            "tags": []
          },
          "execution_count": 73
        }
      ]
    },
    {
      "cell_type": "code",
      "metadata": {
        "colab": {
          "base_uri": "https://localhost:8080/"
        },
        "id": "jLTZW8Jnst3-",
        "outputId": "a1f9a985-6af0-4ba6-f398-73adf6e56c1d"
      },
      "source": [
        "exposure_grp['no'].value_counts()"
      ],
      "execution_count": 60,
      "outputs": [
        {
          "output_type": "execute_result",
          "data": {
            "text/plain": [
              "experiment  no\n",
              "control     0     3749\n",
              "            1      322\n",
              "exposed     0     3657\n",
              "            1      349\n",
              "Name: no, dtype: int64"
            ]
          },
          "metadata": {
            "tags": []
          },
          "execution_count": 60
        }
      ]
    },
    {
      "cell_type": "code",
      "metadata": {
        "colab": {
          "base_uri": "https://localhost:8080/",
          "height": 296
        },
        "id": "K6ypwdHBs6Ox",
        "outputId": "4fa379be-4c0f-4589-80e5-785869127f4b"
      },
      "source": [
        "sns.barplot(x= exposure_grp['yes'].value_counts().index, y=exposure_grp['yes'].value_counts().values,data=exposure_grp['yes'].value_counts())"
      ],
      "execution_count": 61,
      "outputs": [
        {
          "output_type": "execute_result",
          "data": {
            "text/plain": [
              "<matplotlib.axes._subplots.AxesSubplot at 0x7f1a05dd7250>"
            ]
          },
          "metadata": {
            "tags": []
          },
          "execution_count": 61
        },
        {
          "output_type": "display_data",
          "data": {
            "image/png": "[encoded data removed]",
            "text/plain": [
              "<Figure size 432x288 with 1 Axes>"
            ]
          },
          "metadata": {
            "tags": [],
            "needs_background": "light"
          }
        }
      ]
    },
    {
      "cell_type": "code",
      "metadata": {
        "colab": {
          "base_uri": "https://localhost:8080/"
        },
        "id": "Zf7kLvpmt1lC",
        "outputId": "1c49a6ba-0e37-46e3-d55c-898083109039"
      },
      "source": [
        "respondents_series = df.groupby(['experiment','yes', 'no']).size()\n",
        "respondents_series"
      ],
      "execution_count": 76,
      "outputs": [
        {
          "output_type": "execute_result",
          "data": {
            "text/plain": [
              "experiment  yes  no\n",
              "control     0    0     3485\n",
              "                 1      322\n",
              "            1    0      264\n",
              "exposed     0    0     3349\n",
              "                 1      349\n",
              "            1    0      308\n",
              "dtype: int64"
            ]
          },
          "metadata": {
            "tags": []
          },
          "execution_count": 76
        }
      ]
    },
    {
      "cell_type": "code",
      "metadata": {
        "colab": {
          "base_uri": "https://localhost:8080/"
        },
        "id": "RasBR_1cv8gF",
        "outputId": "970e3d15-066d-4d8b-fbb7-8c0a9c41017d"
      },
      "source": [
        "df.shape"
      ],
      "execution_count": 74,
      "outputs": [
        {
          "output_type": "execute_result",
          "data": {
            "text/plain": [
              "(8077, 8)"
            ]
          },
          "metadata": {
            "tags": []
          },
          "execution_count": 74
        }
      ]
    },
    {
      "cell_type": "markdown",
      "metadata": {
        "id": "e4A-1W-iv-q3"
      },
      "source": [
        "### Out of 8077 respondents 6834 skipped the question 671 answered no and only 572 saw the ad"
      ]
    },
    {
      "cell_type": "code",
      "metadata": {
        "colab": {
          "base_uri": "https://localhost:8080/",
          "height": 265
        },
        "id": "PA3sTLKouEk5",
        "outputId": "a49fde78-e1e0-4e4c-84c8-00d4c58a705a"
      },
      "source": [
        "ax = sns.barplot(x=respondents_series.index, y=respondents_series.values, data=respondents_series)"
      ],
      "execution_count": 71,
      "outputs": [
        {
          "output_type": "display_data",
          "data": {
            "image/png": "[encoded data removed]",
            "text/plain": [
              "<Figure size 432x288 with 1 Axes>"
            ]
          },
          "metadata": {
            "tags": [],
            "needs_background": "light"
          }
        }
      ]
    },
    {
      "cell_type": "code",
      "metadata": {
        "colab": {
          "base_uri": "https://localhost:8080/"
        },
        "id": "xNJ8uAXBnrVl",
        "outputId": "530c5b85-3a85-4bb3-c72d-733c16e2e1d9"
      },
      "source": [
        "df['date'] = pd.to_datetime(df['date'])\n",
        "df.dtypes"
      ],
      "execution_count": 32,
      "outputs": [
        {
          "output_type": "execute_result",
          "data": {
            "text/plain": [
              "experiment             object\n",
              "date           datetime64[ns]\n",
              "hour                    int64\n",
              "device_make            object\n",
              "platform_os             int64\n",
              "browser                object\n",
              "yes                     int64\n",
              "no                      int64\n",
              "dtype: object"
            ]
          },
          "metadata": {
            "tags": []
          },
          "execution_count": 32
        }
      ]
    },
    {
      "cell_type": "markdown",
      "metadata": {
        "id": "pbwZyLKuEEWn"
      },
      "source": [
        "## Date Based analysis"
      ]
    },
    {
      "cell_type": "code",
      "metadata": {
        "id": "GCYp5xJzn4Qr"
      },
      "source": [
        "df = df.sort_values(by = 'date')"
      ],
      "execution_count": 77,
      "outputs": []
    },
    {
      "cell_type": "code",
      "metadata": {
        "id": "GNqWZWwyoDJA"
      },
      "source": [
        "date_series = df['date'].value_counts().sort_index()"
      ],
      "execution_count": 44,
      "outputs": []
    },
    {
      "cell_type": "code",
      "metadata": {
        "id": "crFSRTBuoLV8"
      },
      "source": [
        "import matplotlib.pyplot as plt\n",
        "import seaborn as sns"
      ],
      "execution_count": 43,
      "outputs": []
    },
    {
      "cell_type": "code",
      "metadata": {
        "colab": {
          "base_uri": "https://localhost:8080/",
          "height": 575
        },
        "id": "GfgmB5QfoxuZ",
        "outputId": "f2aaf569-5573-4965-ae0b-7d7c58399c47"
      },
      "source": [
        "ax = sns.lineplot(x= date_series.index, y = date_series.values)\n",
        "plt.setp(ax.get_xticklabels(), rotation=45)"
      ],
      "execution_count": 47,
      "outputs": [
        {
          "output_type": "execute_result",
          "data": {
            "text/plain": [
              "[None,\n",
              " None,\n",
              " None,\n",
              " None,\n",
              " None,\n",
              " None,\n",
              " None,\n",
              " None,\n",
              " None,\n",
              " None,\n",
              " None,\n",
              " None,\n",
              " None,\n",
              " None,\n",
              " None,\n",
              " None]"
            ]
          },
          "metadata": {
            "tags": []
          },
          "execution_count": 47
        },
        {
          "output_type": "display_data",
          "data": {
            "image/png": "[encoded data removed]",
            "text/plain": [
              "<Figure size 432x288 with 1 Axes>"
            ]
          },
          "metadata": {
            "tags": [],
            "needs_background": "light"
          }
        }
      ]
    },
    {
      "cell_type": "code",
      "metadata": {
        "colab": {
          "base_uri": "https://localhost:8080/",
          "height": 300
        },
        "id": "k32Z7IAjpNSh",
        "outputId": "93798422-1ea7-4036-e7d4-9139a80e59b8"
      },
      "source": [
        "platform_series = df['platform_os'].value_counts()\n",
        "sns.barplot(x = platform_series.index, y= platform_series.values, data=platform_series)"
      ],
      "execution_count": 53,
      "outputs": [
        {
          "output_type": "execute_result",
          "data": {
            "text/plain": [
              "<matplotlib.axes._subplots.AxesSubplot at 0x7f1a05e7d2d0>"
            ]
          },
          "metadata": {
            "tags": []
          },
          "execution_count": 53
        },
        {
          "output_type": "display_data",
          "data": {
            "image/png": "[encoded data removed]",
            "text/plain": [
              "<Figure size 432x288 with 1 Axes>"
            ]
          },
          "metadata": {
            "tags": [],
            "needs_background": "light"
          }
        }
      ]
    },
    {
      "cell_type": "code",
      "metadata": {
        "id": "PIOp7oldqHQY"
      },
      "source": [
        "browser_series = "
      ],
      "execution_count": null,
      "outputs": []
    },
    {
      "cell_type": "markdown",
      "metadata": {
        "id": "dSim1joQEIKq"
      },
      "source": [
        "## Based on date how much did BIO increase"
      ]
    },
    {
      "cell_type": "code",
      "metadata": {
        "colab": {
          "base_uri": "https://localhost:8080/"
        },
        "id": "TKCRY6JCEcL9",
        "outputId": "9bd4a18a-4b16-402a-b574-7920b807d146"
      },
      "source": [
        "bio_series = df.groupby(['date','experiment','yes', 'no']).size()\n",
        "bio_series"
      ],
      "execution_count": 84,
      "outputs": [
        {
          "output_type": "execute_result",
          "data": {
            "text/plain": [
              "date        experiment  yes  no\n",
              "2020-07-03  control     0    0     1312\n",
              "                             1      129\n",
              "                        1    0      104\n",
              "            exposed     0    0      378\n",
              "                             1       49\n",
              "                        1    0       43\n",
              "2020-07-04  control     0    0      358\n",
              "                             1       38\n",
              "                        1    0       30\n",
              "            exposed     0    0      386\n",
              "                             1       45\n",
              "                        1    0       46\n",
              "2020-07-05  control     0    0      319\n",
              "                             1       26\n",
              "                        1    0       17\n",
              "            exposed     0    0      454\n",
              "                             1       39\n",
              "                        1    0       35\n",
              "2020-07-06  control     0    0      170\n",
              "                             1       14\n",
              "                        1    0       12\n",
              "            exposed     0    0      246\n",
              "                             1       25\n",
              "                        1    0       23\n",
              "2020-07-07  control     0    0      186\n",
              "                             1       21\n",
              "                        1    0       16\n",
              "            exposed     0    0      211\n",
              "                             1       24\n",
              "                        1    0       22\n",
              "2020-07-08  control     0    0      426\n",
              "                             1       31\n",
              "                        1    0       27\n",
              "            exposed     0    0      595\n",
              "                             1       61\n",
              "                        1    0       58\n",
              "2020-07-09  control     0    0      415\n",
              "                             1       35\n",
              "                        1    0       30\n",
              "            exposed     0    0      609\n",
              "                             1       64\n",
              "                        1    0       55\n",
              "2020-07-10  control     0    0      299\n",
              "                             1       28\n",
              "                        1    0       28\n",
              "            exposed     0    0      470\n",
              "                             1       42\n",
              "                        1    0       26\n",
              "dtype: int64"
            ]
          },
          "metadata": {
            "tags": []
          },
          "execution_count": 84
        }
      ]
    },
    {
      "cell_type": "code",
      "metadata": {
        "colab": {
          "base_uri": "https://localhost:8080/"
        },
        "id": "4GOjspRwG_rJ",
        "outputId": "b814e436-913e-4cad-ce9d-602eeb5afc9a"
      },
      "source": [
        "for date, new_df in bio_series.groupby(level=0):\n",
        "  print(date)\n",
        "  for experiment, new_df in bio_series.groupby(level=1):\n",
        "    print(experiment)\n",
        "    for value in new_df.values:\n",
        "      pass\n",
        "    # print(new_df.groupby('date').value_counts().index)\n",
        "    # control_data = new_df.groupby('date').value_counts().index\n",
        "    # print(new_df)\n",
        "    new_df = pd.DataFrame(new_df)\n",
        "    # print(new_df)\n",
        "    new_df['percent'] = new_df.groupby(level=0).transform(lambda x: (x / x.sum()).round(2))\n",
        "    print(new_df)\n",
        "    # control_data = new_df.groupby('date')\n",
        "    break\n",
        "  break"
      ],
      "execution_count": 143,
      "outputs": [
        {
          "output_type": "stream",
          "text": [
            "2020-07-03 00:00:00\n",
            "control\n",
            "                                 0  percent\n",
            "date       experiment yes no               \n",
            "2020-07-03 control    0   0   1312     0.85\n",
            "                          1    129     0.08\n",
            "                      1   0    104     0.07\n",
            "2020-07-04 control    0   0    358     0.84\n",
            "                          1     38     0.09\n",
            "                      1   0     30     0.07\n",
            "2020-07-05 control    0   0    319     0.88\n",
            "                          1     26     0.07\n",
            "                      1   0     17     0.05\n",
            "2020-07-06 control    0   0    170     0.87\n",
            "                          1     14     0.07\n",
            "                      1   0     12     0.06\n",
            "2020-07-07 control    0   0    186     0.83\n",
            "                          1     21     0.09\n",
            "                      1   0     16     0.07\n",
            "2020-07-08 control    0   0    426     0.88\n",
            "                          1     31     0.06\n",
            "                      1   0     27     0.06\n",
            "2020-07-09 control    0   0    415     0.86\n",
            "                          1     35     0.07\n",
            "                      1   0     30     0.06\n",
            "2020-07-10 control    0   0    299     0.84\n",
            "                          1     28     0.08\n",
            "                      1   0     28     0.08\n"
          ],
          "name": "stdout"
        }
      ]
    },
    {
      "cell_type": "code",
      "metadata": {
        "id": "zWScY7i_TQMs"
      },
      "source": [
        "unstacked_df = new_df.unstack(level=[2,3])\n",
        "unstacked_df = unstacked_df.reset_index(level=1, drop=True)\n",
        "# df.reset_index(level=2, drop=True)"
      ],
      "execution_count": 151,
      "outputs": []
    },
    {
      "cell_type": "code",
      "metadata": {
        "colab": {
          "base_uri": "https://localhost:8080/",
          "height": 297
        },
        "id": "MBnu-DpnV0Ck",
        "outputId": "979d5317-ed04-4db4-b77c-7df2f754f48f"
      },
      "source": [
        "unstacked_df.head()"
      ],
      "execution_count": 153,
      "outputs": [
        {
          "output_type": "execute_result",
          "data": {
            "text/html": [
              "<div>\n",
              "<style scoped>\n",
              "    .dataframe tbody tr th:only-of-type {\n",
              "        vertical-align: middle;\n",
              "    }\n",
              "\n",
              "    .dataframe tbody tr th {\n",
              "        vertical-align: top;\n",
              "    }\n",
              "\n",
              "    .dataframe thead tr th {\n",
              "        text-align: left;\n",
              "    }\n",
              "\n",
              "    .dataframe thead tr:last-of-type th {\n",
              "        text-align: right;\n",
              "    }\n",
              "</style>\n",
              "<table border=\"1\" class=\"dataframe\">\n",
              "  <thead>\n",
              "    <tr>\n",
              "      <th></th>\n",
              "      <th colspan=\"3\" halign=\"left\">0</th>\n",
              "      <th colspan=\"3\" halign=\"left\">percent</th>\n",
              "    </tr>\n",
              "    <tr>\n",
              "      <th>yes</th>\n",
              "      <th colspan=\"2\" halign=\"left\">0</th>\n",
              "      <th>1</th>\n",
              "      <th colspan=\"2\" halign=\"left\">0</th>\n",
              "      <th>1</th>\n",
              "    </tr>\n",
              "    <tr>\n",
              "      <th>no</th>\n",
              "      <th>0</th>\n",
              "      <th>1</th>\n",
              "      <th>0</th>\n",
              "      <th>0</th>\n",
              "      <th>1</th>\n",
              "      <th>0</th>\n",
              "    </tr>\n",
              "    <tr>\n",
              "      <th>date</th>\n",
              "      <th></th>\n",
              "      <th></th>\n",
              "      <th></th>\n",
              "      <th></th>\n",
              "      <th></th>\n",
              "      <th></th>\n",
              "    </tr>\n",
              "  </thead>\n",
              "  <tbody>\n",
              "    <tr>\n",
              "      <th>2020-07-03</th>\n",
              "      <td>1312</td>\n",
              "      <td>129</td>\n",
              "      <td>104</td>\n",
              "      <td>0.85</td>\n",
              "      <td>0.08</td>\n",
              "      <td>0.07</td>\n",
              "    </tr>\n",
              "    <tr>\n",
              "      <th>2020-07-04</th>\n",
              "      <td>358</td>\n",
              "      <td>38</td>\n",
              "      <td>30</td>\n",
              "      <td>0.84</td>\n",
              "      <td>0.09</td>\n",
              "      <td>0.07</td>\n",
              "    </tr>\n",
              "    <tr>\n",
              "      <th>2020-07-05</th>\n",
              "      <td>319</td>\n",
              "      <td>26</td>\n",
              "      <td>17</td>\n",
              "      <td>0.88</td>\n",
              "      <td>0.07</td>\n",
              "      <td>0.05</td>\n",
              "    </tr>\n",
              "    <tr>\n",
              "      <th>2020-07-06</th>\n",
              "      <td>170</td>\n",
              "      <td>14</td>\n",
              "      <td>12</td>\n",
              "      <td>0.87</td>\n",
              "      <td>0.07</td>\n",
              "      <td>0.06</td>\n",
              "    </tr>\n",
              "    <tr>\n",
              "      <th>2020-07-07</th>\n",
              "      <td>186</td>\n",
              "      <td>21</td>\n",
              "      <td>16</td>\n",
              "      <td>0.83</td>\n",
              "      <td>0.09</td>\n",
              "      <td>0.07</td>\n",
              "    </tr>\n",
              "  </tbody>\n",
              "</table>\n",
              "</div>"
            ],
            "text/plain": [
              "               0           percent            \n",
              "yes            0         1       0           1\n",
              "no             0    1    0       0     1     0\n",
              "date                                          \n",
              "2020-07-03  1312  129  104    0.85  0.08  0.07\n",
              "2020-07-04   358   38   30    0.84  0.09  0.07\n",
              "2020-07-05   319   26   17    0.88  0.07  0.05\n",
              "2020-07-06   170   14   12    0.87  0.07  0.06\n",
              "2020-07-07   186   21   16    0.83  0.09  0.07"
            ]
          },
          "metadata": {
            "tags": []
          },
          "execution_count": 153
        }
      ]
    },
    {
      "cell_type": "code",
      "metadata": {
        "colab": {
          "base_uri": "https://localhost:8080/",
          "height": 359
        },
        "id": "xjvFZJUmWEl-",
        "outputId": "112d3416-9319-47dd-9f90-46f2ec088712"
      },
      "source": [
        "unstacked_df['percent']"
      ],
      "execution_count": 154,
      "outputs": [
        {
          "output_type": "execute_result",
          "data": {
            "text/html": [
              "<div>\n",
              "<style scoped>\n",
              "    .dataframe tbody tr th:only-of-type {\n",
              "        vertical-align: middle;\n",
              "    }\n",
              "\n",
              "    .dataframe tbody tr th {\n",
              "        vertical-align: top;\n",
              "    }\n",
              "\n",
              "    .dataframe thead tr th {\n",
              "        text-align: left;\n",
              "    }\n",
              "\n",
              "    .dataframe thead tr:last-of-type th {\n",
              "        text-align: right;\n",
              "    }\n",
              "</style>\n",
              "<table border=\"1\" class=\"dataframe\">\n",
              "  <thead>\n",
              "    <tr>\n",
              "      <th>yes</th>\n",
              "      <th colspan=\"2\" halign=\"left\">0</th>\n",
              "      <th>1</th>\n",
              "    </tr>\n",
              "    <tr>\n",
              "      <th>no</th>\n",
              "      <th>0</th>\n",
              "      <th>1</th>\n",
              "      <th>0</th>\n",
              "    </tr>\n",
              "    <tr>\n",
              "      <th>date</th>\n",
              "      <th></th>\n",
              "      <th></th>\n",
              "      <th></th>\n",
              "    </tr>\n",
              "  </thead>\n",
              "  <tbody>\n",
              "    <tr>\n",
              "      <th>2020-07-03</th>\n",
              "      <td>0.85</td>\n",
              "      <td>0.08</td>\n",
              "      <td>0.07</td>\n",
              "    </tr>\n",
              "    <tr>\n",
              "      <th>2020-07-04</th>\n",
              "      <td>0.84</td>\n",
              "      <td>0.09</td>\n",
              "      <td>0.07</td>\n",
              "    </tr>\n",
              "    <tr>\n",
              "      <th>2020-07-05</th>\n",
              "      <td>0.88</td>\n",
              "      <td>0.07</td>\n",
              "      <td>0.05</td>\n",
              "    </tr>\n",
              "    <tr>\n",
              "      <th>2020-07-06</th>\n",
              "      <td>0.87</td>\n",
              "      <td>0.07</td>\n",
              "      <td>0.06</td>\n",
              "    </tr>\n",
              "    <tr>\n",
              "      <th>2020-07-07</th>\n",
              "      <td>0.83</td>\n",
              "      <td>0.09</td>\n",
              "      <td>0.07</td>\n",
              "    </tr>\n",
              "    <tr>\n",
              "      <th>2020-07-08</th>\n",
              "      <td>0.88</td>\n",
              "      <td>0.06</td>\n",
              "      <td>0.06</td>\n",
              "    </tr>\n",
              "    <tr>\n",
              "      <th>2020-07-09</th>\n",
              "      <td>0.86</td>\n",
              "      <td>0.07</td>\n",
              "      <td>0.06</td>\n",
              "    </tr>\n",
              "    <tr>\n",
              "      <th>2020-07-10</th>\n",
              "      <td>0.84</td>\n",
              "      <td>0.08</td>\n",
              "      <td>0.08</td>\n",
              "    </tr>\n",
              "  </tbody>\n",
              "</table>\n",
              "</div>"
            ],
            "text/plain": [
              "yes            0           1\n",
              "no             0     1     0\n",
              "date                        \n",
              "2020-07-03  0.85  0.08  0.07\n",
              "2020-07-04  0.84  0.09  0.07\n",
              "2020-07-05  0.88  0.07  0.05\n",
              "2020-07-06  0.87  0.07  0.06\n",
              "2020-07-07  0.83  0.09  0.07\n",
              "2020-07-08  0.88  0.06  0.06\n",
              "2020-07-09  0.86  0.07  0.06\n",
              "2020-07-10  0.84  0.08  0.08"
            ]
          },
          "metadata": {
            "tags": []
          },
          "execution_count": 154
        }
      ]
    },
    {
      "cell_type": "code",
      "metadata": {
        "colab": {
          "base_uri": "https://localhost:8080/",
          "height": 328
        },
        "id": "SBT6X7uYW1cY",
        "outputId": "bcfe320f-cf05-4895-a59d-9c4d70f1e31c"
      },
      "source": [
        "unstacked_df.columns = unstacked_df.columns.droplevel()\n",
        "unstacked_df.columns = unstacked_df.columns.droplevel()\n",
        "# df.columns = df.columns.droplevel()\n",
        "unstacked_df"
      ],
      "execution_count": 165,
      "outputs": [
        {
          "output_type": "execute_result",
          "data": {
            "text/html": [
              "<div>\n",
              "<style scoped>\n",
              "    .dataframe tbody tr th:only-of-type {\n",
              "        vertical-align: middle;\n",
              "    }\n",
              "\n",
              "    .dataframe tbody tr th {\n",
              "        vertical-align: top;\n",
              "    }\n",
              "\n",
              "    .dataframe thead th {\n",
              "        text-align: right;\n",
              "    }\n",
              "</style>\n",
              "<table border=\"1\" class=\"dataframe\">\n",
              "  <thead>\n",
              "    <tr style=\"text-align: right;\">\n",
              "      <th>no</th>\n",
              "      <th>0</th>\n",
              "      <th>1</th>\n",
              "      <th>0</th>\n",
              "      <th>0</th>\n",
              "      <th>1</th>\n",
              "      <th>0</th>\n",
              "    </tr>\n",
              "    <tr>\n",
              "      <th>date</th>\n",
              "      <th></th>\n",
              "      <th></th>\n",
              "      <th></th>\n",
              "      <th></th>\n",
              "      <th></th>\n",
              "      <th></th>\n",
              "    </tr>\n",
              "  </thead>\n",
              "  <tbody>\n",
              "    <tr>\n",
              "      <th>2020-07-03</th>\n",
              "      <td>1312</td>\n",
              "      <td>129</td>\n",
              "      <td>104</td>\n",
              "      <td>0.85</td>\n",
              "      <td>0.08</td>\n",
              "      <td>0.07</td>\n",
              "    </tr>\n",
              "    <tr>\n",
              "      <th>2020-07-04</th>\n",
              "      <td>358</td>\n",
              "      <td>38</td>\n",
              "      <td>30</td>\n",
              "      <td>0.84</td>\n",
              "      <td>0.09</td>\n",
              "      <td>0.07</td>\n",
              "    </tr>\n",
              "    <tr>\n",
              "      <th>2020-07-05</th>\n",
              "      <td>319</td>\n",
              "      <td>26</td>\n",
              "      <td>17</td>\n",
              "      <td>0.88</td>\n",
              "      <td>0.07</td>\n",
              "      <td>0.05</td>\n",
              "    </tr>\n",
              "    <tr>\n",
              "      <th>2020-07-06</th>\n",
              "      <td>170</td>\n",
              "      <td>14</td>\n",
              "      <td>12</td>\n",
              "      <td>0.87</td>\n",
              "      <td>0.07</td>\n",
              "      <td>0.06</td>\n",
              "    </tr>\n",
              "    <tr>\n",
              "      <th>2020-07-07</th>\n",
              "      <td>186</td>\n",
              "      <td>21</td>\n",
              "      <td>16</td>\n",
              "      <td>0.83</td>\n",
              "      <td>0.09</td>\n",
              "      <td>0.07</td>\n",
              "    </tr>\n",
              "    <tr>\n",
              "      <th>2020-07-08</th>\n",
              "      <td>426</td>\n",
              "      <td>31</td>\n",
              "      <td>27</td>\n",
              "      <td>0.88</td>\n",
              "      <td>0.06</td>\n",
              "      <td>0.06</td>\n",
              "    </tr>\n",
              "    <tr>\n",
              "      <th>2020-07-09</th>\n",
              "      <td>415</td>\n",
              "      <td>35</td>\n",
              "      <td>30</td>\n",
              "      <td>0.86</td>\n",
              "      <td>0.07</td>\n",
              "      <td>0.06</td>\n",
              "    </tr>\n",
              "    <tr>\n",
              "      <th>2020-07-10</th>\n",
              "      <td>299</td>\n",
              "      <td>28</td>\n",
              "      <td>28</td>\n",
              "      <td>0.84</td>\n",
              "      <td>0.08</td>\n",
              "      <td>0.08</td>\n",
              "    </tr>\n",
              "  </tbody>\n",
              "</table>\n",
              "</div>"
            ],
            "text/plain": [
              "no             0    1    0     0     1     0\n",
              "date                                        \n",
              "2020-07-03  1312  129  104  0.85  0.08  0.07\n",
              "2020-07-04   358   38   30  0.84  0.09  0.07\n",
              "2020-07-05   319   26   17  0.88  0.07  0.05\n",
              "2020-07-06   170   14   12  0.87  0.07  0.06\n",
              "2020-07-07   186   21   16  0.83  0.09  0.07\n",
              "2020-07-08   426   31   27  0.88  0.06  0.06\n",
              "2020-07-09   415   35   30  0.86  0.07  0.06\n",
              "2020-07-10   299   28   28  0.84  0.08  0.08"
            ]
          },
          "metadata": {
            "tags": []
          },
          "execution_count": 165
        }
      ]
    },
    {
      "cell_type": "code",
      "metadata": {
        "colab": {
          "base_uri": "https://localhost:8080/",
          "height": 328
        },
        "id": "EZ7BhcgCWhJw",
        "outputId": "68dff521-b4c0-4da2-e218-f39e4b985f4a"
      },
      "source": [
        "unstacked_df.columns = [\"Original:00\",\"Original:01\",\"Original:10\",\"Percent:00\",\"Percent:01\",\"Percent:10\"]\n",
        "unstacked_df"
      ],
      "execution_count": 178,
      "outputs": [
        {
          "output_type": "execute_result",
          "data": {
            "text/html": [
              "<div>\n",
              "<style scoped>\n",
              "    .dataframe tbody tr th:only-of-type {\n",
              "        vertical-align: middle;\n",
              "    }\n",
              "\n",
              "    .dataframe tbody tr th {\n",
              "        vertical-align: top;\n",
              "    }\n",
              "\n",
              "    .dataframe thead th {\n",
              "        text-align: right;\n",
              "    }\n",
              "</style>\n",
              "<table border=\"1\" class=\"dataframe\">\n",
              "  <thead>\n",
              "    <tr style=\"text-align: right;\">\n",
              "      <th></th>\n",
              "      <th>Original:00</th>\n",
              "      <th>Original:01</th>\n",
              "      <th>Original:10</th>\n",
              "      <th>Percent:00</th>\n",
              "      <th>Percent:01</th>\n",
              "      <th>Percent:10</th>\n",
              "    </tr>\n",
              "    <tr>\n",
              "      <th>date</th>\n",
              "      <th></th>\n",
              "      <th></th>\n",
              "      <th></th>\n",
              "      <th></th>\n",
              "      <th></th>\n",
              "      <th></th>\n",
              "    </tr>\n",
              "  </thead>\n",
              "  <tbody>\n",
              "    <tr>\n",
              "      <th>2020-07-03</th>\n",
              "      <td>1312</td>\n",
              "      <td>129</td>\n",
              "      <td>104</td>\n",
              "      <td>0.85</td>\n",
              "      <td>0.08</td>\n",
              "      <td>0.07</td>\n",
              "    </tr>\n",
              "    <tr>\n",
              "      <th>2020-07-04</th>\n",
              "      <td>358</td>\n",
              "      <td>38</td>\n",
              "      <td>30</td>\n",
              "      <td>0.84</td>\n",
              "      <td>0.09</td>\n",
              "      <td>0.07</td>\n",
              "    </tr>\n",
              "    <tr>\n",
              "      <th>2020-07-05</th>\n",
              "      <td>319</td>\n",
              "      <td>26</td>\n",
              "      <td>17</td>\n",
              "      <td>0.88</td>\n",
              "      <td>0.07</td>\n",
              "      <td>0.05</td>\n",
              "    </tr>\n",
              "    <tr>\n",
              "      <th>2020-07-06</th>\n",
              "      <td>170</td>\n",
              "      <td>14</td>\n",
              "      <td>12</td>\n",
              "      <td>0.87</td>\n",
              "      <td>0.07</td>\n",
              "      <td>0.06</td>\n",
              "    </tr>\n",
              "    <tr>\n",
              "      <th>2020-07-07</th>\n",
              "      <td>186</td>\n",
              "      <td>21</td>\n",
              "      <td>16</td>\n",
              "      <td>0.83</td>\n",
              "      <td>0.09</td>\n",
              "      <td>0.07</td>\n",
              "    </tr>\n",
              "    <tr>\n",
              "      <th>2020-07-08</th>\n",
              "      <td>426</td>\n",
              "      <td>31</td>\n",
              "      <td>27</td>\n",
              "      <td>0.88</td>\n",
              "      <td>0.06</td>\n",
              "      <td>0.06</td>\n",
              "    </tr>\n",
              "    <tr>\n",
              "      <th>2020-07-09</th>\n",
              "      <td>415</td>\n",
              "      <td>35</td>\n",
              "      <td>30</td>\n",
              "      <td>0.86</td>\n",
              "      <td>0.07</td>\n",
              "      <td>0.06</td>\n",
              "    </tr>\n",
              "    <tr>\n",
              "      <th>2020-07-10</th>\n",
              "      <td>299</td>\n",
              "      <td>28</td>\n",
              "      <td>28</td>\n",
              "      <td>0.84</td>\n",
              "      <td>0.08</td>\n",
              "      <td>0.08</td>\n",
              "    </tr>\n",
              "  </tbody>\n",
              "</table>\n",
              "</div>"
            ],
            "text/plain": [
              "            Original:00  Original:01  ...  Percent:01  Percent:10\n",
              "date                                  ...                        \n",
              "2020-07-03         1312          129  ...        0.08        0.07\n",
              "2020-07-04          358           38  ...        0.09        0.07\n",
              "2020-07-05          319           26  ...        0.07        0.05\n",
              "2020-07-06          170           14  ...        0.07        0.06\n",
              "2020-07-07          186           21  ...        0.09        0.07\n",
              "2020-07-08          426           31  ...        0.06        0.06\n",
              "2020-07-09          415           35  ...        0.07        0.06\n",
              "2020-07-10          299           28  ...        0.08        0.08\n",
              "\n",
              "[8 rows x 6 columns]"
            ]
          },
          "metadata": {
            "tags": []
          },
          "execution_count": 178
        }
      ]
    },
    {
      "cell_type": "code",
      "metadata": {
        "id": "dODQC3pfZYkU"
      },
      "source": [
        "from sklearn.preprocessing import MinMaxScaler\n",
        "scaler = MinMaxScaler()\n",
        "scaled_df = scaler.fit_transform(unstacked_df[[\"Percent:00\",\t\"Percent:01\",\t\"Percent:10\"]])"
      ],
      "execution_count": 180,
      "outputs": []
    },
    {
      "cell_type": "code",
      "metadata": {
        "colab": {
          "base_uri": "https://localhost:8080/"
        },
        "id": "npPuP9hMZm5z",
        "outputId": "14202797-0f09-4629-91e6-d21025689d82"
      },
      "source": [
        "scaled_df"
      ],
      "execution_count": 181,
      "outputs": [
        {
          "output_type": "execute_result",
          "data": {
            "text/plain": [
              "array([[0.4       , 0.66666667, 0.66666667],\n",
              "       [0.2       , 1.        , 0.66666667],\n",
              "       [1.        , 0.33333333, 0.        ],\n",
              "       [0.8       , 0.33333333, 0.33333333],\n",
              "       [0.        , 1.        , 0.66666667],\n",
              "       [1.        , 0.        , 0.33333333],\n",
              "       [0.6       , 0.33333333, 0.33333333],\n",
              "       [0.2       , 0.66666667, 1.        ]])"
            ]
          },
          "metadata": {
            "tags": []
          },
          "execution_count": 181
        }
      ]
    },
    {
      "cell_type": "code",
      "metadata": {
        "colab": {
          "base_uri": "https://localhost:8080/",
          "height": 607
        },
        "id": "bAyBcZPwOaPD",
        "outputId": "e79a4683-38ab-489b-ffed-6a1480b287fa"
      },
      "source": [
        "ax = sns.lineplot(data=scaled_df)\n",
        "plt.setp(ax.get_xticklabels(), rotation=45)"
      ],
      "execution_count": 182,
      "outputs": [
        {
          "output_type": "execute_result",
          "data": {
            "text/plain": [
              "[None,\n",
              " None,\n",
              " None,\n",
              " None,\n",
              " None,\n",
              " None,\n",
              " None,\n",
              " None,\n",
              " None,\n",
              " None,\n",
              " None,\n",
              " None,\n",
              " None,\n",
              " None,\n",
              " None,\n",
              " None,\n",
              " None,\n",
              " None,\n",
              " None,\n",
              " None]"
            ]
          },
          "metadata": {
            "tags": []
          },
          "execution_count": 182
        },
        {
          "output_type": "display_data",
          "data": {
            "image/png": "[encoded data removed]",
            "text/plain": [
              "<Figure size 432x288 with 1 Axes>"
            ]
          },
          "metadata": {
            "tags": [],
            "needs_background": "light"
          }
        }
      ]
    },
    {
      "cell_type": "code",
      "metadata": {
        "id": "7n3QGUcvGO_-"
      },
      "source": [
        "ax = sns.lineplot(x= date_series.index, y = date_series.values)\n",
        "plt.setp(ax.get_xticklabels(), rotation=45)"
      ],
      "execution_count": null,
      "outputs": []
    },
    {
      "cell_type": "code",
      "metadata": {
        "id": "weMDB5UOKL15"
      },
      "source": [
        ""
      ],
      "execution_count": null,
      "outputs": []
    }
  ]
}